{
 "cells": [
  {
   "cell_type": "markdown",
   "metadata": {
    "pycharm": {
     "name": "#%% md\n"
    }
   },
   "source": [
    "## Notenbonusprojekt\n",
    "### Segmentierung von Stammkunden\n",
    "** **\n",
    "\n",
    "Für dieses Projekt liegen 200 Stammkundendaten vor. Es wird im Folgenden ein\n",
    "Cluster-Algorithmus entwickelt, mit welchem dann die Segmentierung der Kunden\n",
    "stattfindet. Daraus werden dann im Anschluss Handlungsempfehlungen abgeleitet.\n"
   ]
  },
  {
   "cell_type": "code",
   "execution_count": 7,
   "metadata": {
    "collapsed": true
   },
   "outputs": [
    {
     "data": {
      "text/plain": "         Geschlecht  Alter  Jährliches Einkommen (k€)  \\\nKundenID                                                \n1              Male     19                         15   \n2              Male     21                         15   \n3            Female     20                         16   \n4            Female     23                         16   \n5            Female     31                         17   \n...             ...    ...                        ...   \n196          Female     35                        120   \n197          Female     45                        126   \n198            Male     32                        126   \n199            Male     32                        137   \n200            Male     30                        137   \n\n          Monatsausgaben (Indexwert, 1-100)  \nKundenID                                     \n1                                        39  \n2                                        81  \n3                                         6  \n4                                        77  \n5                                        40  \n...                                     ...  \n196                                      79  \n197                                      28  \n198                                      74  \n199                                      18  \n200                                      83  \n\n[200 rows x 4 columns]",
      "text/html": "<div>\n<style scoped>\n    .dataframe tbody tr th:only-of-type {\n        vertical-align: middle;\n    }\n\n    .dataframe tbody tr th {\n        vertical-align: top;\n    }\n\n    .dataframe thead th {\n        text-align: right;\n    }\n</style>\n<table border=\"1\" class=\"dataframe\">\n  <thead>\n    <tr style=\"text-align: right;\">\n      <th></th>\n      <th>Geschlecht</th>\n      <th>Alter</th>\n      <th>Jährliches Einkommen (k€)</th>\n      <th>Monatsausgaben (Indexwert, 1-100)</th>\n    </tr>\n    <tr>\n      <th>KundenID</th>\n      <th></th>\n      <th></th>\n      <th></th>\n      <th></th>\n    </tr>\n  </thead>\n  <tbody>\n    <tr>\n      <th>1</th>\n      <td>Male</td>\n      <td>19</td>\n      <td>15</td>\n      <td>39</td>\n    </tr>\n    <tr>\n      <th>2</th>\n      <td>Male</td>\n      <td>21</td>\n      <td>15</td>\n      <td>81</td>\n    </tr>\n    <tr>\n      <th>3</th>\n      <td>Female</td>\n      <td>20</td>\n      <td>16</td>\n      <td>6</td>\n    </tr>\n    <tr>\n      <th>4</th>\n      <td>Female</td>\n      <td>23</td>\n      <td>16</td>\n      <td>77</td>\n    </tr>\n    <tr>\n      <th>5</th>\n      <td>Female</td>\n      <td>31</td>\n      <td>17</td>\n      <td>40</td>\n    </tr>\n    <tr>\n      <th>...</th>\n      <td>...</td>\n      <td>...</td>\n      <td>...</td>\n      <td>...</td>\n    </tr>\n    <tr>\n      <th>196</th>\n      <td>Female</td>\n      <td>35</td>\n      <td>120</td>\n      <td>79</td>\n    </tr>\n    <tr>\n      <th>197</th>\n      <td>Female</td>\n      <td>45</td>\n      <td>126</td>\n      <td>28</td>\n    </tr>\n    <tr>\n      <th>198</th>\n      <td>Male</td>\n      <td>32</td>\n      <td>126</td>\n      <td>74</td>\n    </tr>\n    <tr>\n      <th>199</th>\n      <td>Male</td>\n      <td>32</td>\n      <td>137</td>\n      <td>18</td>\n    </tr>\n    <tr>\n      <th>200</th>\n      <td>Male</td>\n      <td>30</td>\n      <td>137</td>\n      <td>83</td>\n    </tr>\n  </tbody>\n</table>\n<p>200 rows × 4 columns</p>\n</div>"
     },
     "execution_count": 7,
     "metadata": {},
     "output_type": "execute_result"
    }
   ],
   "source": [
    "#Zu Beginn werden die Kundendaten mit dem Package Pandas eingelesen; importiere\n",
    "#noch weiter wichtige Packages\n",
    "\n",
    "import pandas as pd\n",
    "import numpy as np\n",
    "import matplotlib.pyplot as plt\n",
    "from sklearn import cluster, metrics\n",
    "\n",
    "pd = pd.read_csv('Kundendaten.csv', index_col= 0, delimiter=\";\", decimal=\",\")\n",
    "pd\n",
    "\n"
   ]
  }
 ],
 "metadata": {
  "kernelspec": {
   "display_name": "Python 3 (ipykernel)",
   "language": "python",
   "name": "python3"
  },
  "language_info": {
   "codemirror_mode": {
    "name": "ipython",
    "version": 3
   },
   "file_extension": ".py",
   "mimetype": "text/x-python",
   "name": "python",
   "nbconvert_exporter": "python",
   "pygments_lexer": "ipython3",
   "version": "3.9.7"
  }
 },
 "nbformat": 4,
 "nbformat_minor": 1
}